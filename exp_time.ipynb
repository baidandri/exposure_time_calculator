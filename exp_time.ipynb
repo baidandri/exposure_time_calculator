{
 "cells": [
  {
   "cell_type": "markdown",
   "id": "53a4f038-a71f-41ff-8714-ff7dd7d0b7c4",
   "metadata": {},
   "source": [
    "# Exposure Time Calculator"
   ]
  },
  {
   "cell_type": "code",
   "execution_count": 1,
   "id": "84b0bc3a-c8b7-44ae-b78b-1e4ae02383d6",
   "metadata": {},
   "outputs": [],
   "source": [
    "import numpy as np\n",
    "import os\n",
    "import matplotlib.pyplot as plt\n",
    "from astropy.io import fits\n",
    "from astropy.wcs import WCS\n",
    "from astropy import units as u\n",
    "from astropy.stats import sigma_clipped_stats\n",
    "from astropy.visualization import SqrtStretch\n",
    "from astropy.visualization.mpl_normalize import ImageNormalize\n",
    "from astropy.coordinates import SkyCoord\n",
    "from photutils.detection import DAOStarFinder\n",
    "from photutils.aperture import CircularAperture, aperture_photometry\n",
    "import pandas as pd\n",
    "from astroquery.vizier import Vizier\n",
    "from scipy.optimize import curve_fit"
   ]
  },
  {
   "cell_type": "code",
   "execution_count": 2,
   "id": "83f74e85-24f8-484a-9905-aef9fefc82db",
   "metadata": {},
   "outputs": [],
   "source": [
    "def estimate_threshold(img_data):\n",
    "    \"\"\"\n",
    "    Estimate threshold for DAOStarFinder using sigma-clipped statistics\n",
    "    \"\"\"\n",
    "    mean, median, std = sigma_clipped_stats(img_data, sigma=3.0)  \n",
    "    threshold= 5.0* std\n",
    "    return threshold, mean, median, std\n"
   ]
  },
  {
   "cell_type": "code",
   "execution_count": 3,
   "id": "879115d3-f935-4550-b0c3-ab765f98471d",
   "metadata": {},
   "outputs": [],
   "source": [
    "def star_finder(img_data, thre, med):\n",
    "    \"\"\"\n",
    "    Detect sources using DAOStarFinder.\n",
    "    \"\"\"\n",
    "    daofind = DAOStarFinder(fwhm=5, threshold=thre) \n",
    "    sources = daofind(img_data - med) # subtract the background\n",
    "    for col in sources.colnames:\n",
    "        sources[col].info.format = '%.8g' # for consistent table output\n",
    "    return sources"
   ]
  },
  {
   "cell_type": "code",
   "execution_count": 4,
   "id": "03a3c104-aa8c-4e87-83fc-1d31dbb3c3d4",
   "metadata": {},
   "outputs": [],
   "source": [
    "# Measure the peak flux of the stars using aperture photometry\n",
    "def measure_peak_flux(img_data, sources, aperture_radius,exp_time):\n",
    "    \"\"\"\n",
    "    Measure the peak flux of the stars using aperture photometry.\n",
    "    \"\"\"\n",
    "    peak_flux = []\n",
    "    for source in sources:\n",
    "        position = (source['xcentroid'], source['ycentroid'])\n",
    "        aperture = CircularAperture(position, r=aperture_radius)\n",
    "        # Calculate the extent of the circular aperture\n",
    "        y, x = np.indices(img_data.shape)\n",
    "        aperture_indices = (x - position[0])**2 + (y - position[1])**2 <= aperture_radius**2\n",
    "        # Extract pixel values within the aperture using NumPy indexing\n",
    "        aperture_data = img_data[aperture_indices]\n",
    "        peak_flux.append(np.max(aperture_data)/exp_time) #Peak pixel per second\n",
    "    return peak_flux "
   ]
  },
  {
   "cell_type": "code",
   "execution_count": 5,
   "id": "3134c6b3-0996-4c41-8564-3df9a8ef828d",
   "metadata": {},
   "outputs": [],
   "source": [
    "def catalog_data_fetch(ra, dec, max_pixel, filter_name):\n",
    "    \"\"\"Fetch magnitude data from the NOMAD catalog based on the filter.\"\"\"\n",
    "    catalog_name = \"I/297\"  # NOMAD catalog\n",
    "    filter_columns = {\n",
    "        'B': 'Bmag',\n",
    "        'V': 'Vmag',\n",
    "        'R': 'Rmag'\n",
    "    }\n",
    "    \n",
    "    if filter_name not in filter_columns:\n",
    "        raise ValueError(f\"Unsupported filter '{filter_name}'. Supported filters are B, V, R.\")\n",
    "    mag_column = filter_columns[filter_name]\n",
    "    mags, cat_ras, cat_decs = [], [], []\n",
    "    \n",
    "    for i in range(len(ra)):\n",
    "        ra_val = ra[i].deg\n",
    "        dec_val = dec[i].deg\n",
    "        result = Vizier.query_region(SkyCoord(ra_val, dec_val, unit='deg', frame='icrs'),\n",
    "                                     radius=5*u.arcsec, catalog=catalog_name, column_filters={mag_column: \"<20\"})\n",
    "        if result is not None and len(result) > 0:\n",
    "            mag = result[0][mag_column][0]\n",
    "            cat_ra = result[0]['RAJ2000'][0]\n",
    "            cat_dec = result[0]['DEJ2000'][0]\n",
    "            mags.append(mag)\n",
    "            cat_ras.append(cat_ra)\n",
    "            cat_decs.append(cat_dec)\n",
    "        else:\n",
    "            mags.append(None)\n",
    "            cat_ras.append(None)\n",
    "            cat_decs.append(None)\n",
    "\n",
    "    star_data = pd.DataFrame({'RA': ra, 'Dec': dec, 'Pixel_Count': max_pixel, 'Mag': mags, 'Cat_Ra': cat_ras, 'Cat_Dec': cat_decs})\n",
    "    return star_data"
   ]
  },
  {
   "cell_type": "code",
   "execution_count": 6,
   "id": "38b22d57-834c-4bb0-8d31-ba69dccfb07a",
   "metadata": {},
   "outputs": [],
   "source": [
    "def expo_fit(x,a,b):\n",
    "    \"\"\"\n",
    "    Exponential fit function.\n",
    "    \"\"\"\n",
    "    y= a * np.exp(b * x)\n",
    "    return y\n",
    "\n",
    "def perform_exponential_fit(x, y):\n",
    "    \"\"\"\n",
    "    Perform exponential fitting and return fitted parameters.\n",
    "    \"\"\"\n",
    "    popt, _ = curve_fit(expo_fit, x, y)\n",
    "    model_y = expo_fit(x, *popt)    \n",
    "    return popt\n",
    "\n",
    "def extrapolate_magnitude(new_magnitudes, popt):\n",
    "    \"\"\"\n",
    "    Extrapolate peak counts based on the exponential fit.\n",
    "    \"\"\"\n",
    "    return expo_fit(new_magnitudes, *popt)"
   ]
  },
  {
   "cell_type": "code",
   "execution_count": 7,
   "id": "3a1c4acf-c7bb-4e0e-bc0d-af2e783e0b0a",
   "metadata": {},
   "outputs": [],
   "source": [
    "def plot_extrapolation(new_magnitudes, extrapolated_peak, filter_name):\n",
    "    \"\"\"Plot the extrapolated curve.\"\"\"\n",
    "    plt.figure()\n",
    "    plt.plot(new_magnitudes, extrapolated_peak, 'g-', label=\"Extrapolated Curve\")\n",
    "    plt.xlabel(f'{filter_name} Magnitude', fontsize=\"15\")\n",
    "    plt.ylabel('Peak Count', fontsize=\"15\")\n",
    "    plt.title(f'{filter_name} Filter Relation', fontsize=\"15\")\n",
    "    plt.tick_params(axis='both', labelsize=15)\n",
    "    plt.tight_layout()\n",
    "    plt.show()"
   ]
  },
  {
   "cell_type": "code",
   "execution_count": 9,
   "id": "7c3fadff-645a-4f28-ba7d-a07eeed7e606",
   "metadata": {
    "scrolled": true,
    "tags": []
   },
   "outputs": [
    {
     "name": "stderr",
     "output_type": "stream",
     "text": [
      "WARNING: FITSFixedWarning: RADECSYS= 'FK5 ' / Equatorial coordinate system \n",
      "the RADECSYS keyword is deprecated, use RADESYSa. [astropy.wcs.wcs]\n",
      "WARNING: FITSFixedWarning: 'datfix' made the change 'Set MJD-OBS to 60132.965926 from DATE-OBS'. [astropy.wcs.wcs]\n"
     ]
    },
    {
     "data": {
      "image/png": "[encoded data removed]",
      "text/plain": [
       "<Figure size 640x480 with 1 Axes>"
      ]
     },
     "metadata": {},
     "output_type": "display_data"
    }
   ],
   "source": [
    "def main(file, filter_name):\n",
    "    hdul = fits.open(file)\n",
    "    img_data = hdul[0].data\n",
    "    wcs = WCS(hdul[0].header)\n",
    "    \n",
    "    # Estimate threshold and find stars\n",
    "    threshold, mean, median, std = estimate_threshold(img_data)\n",
    "    sources = star_finder(img_data, threshold, median)\n",
    "        \n",
    "    # Measure peak flux\n",
    "    aperture_radius = 4.0\n",
    "    exposure_time = hdul[0].header.get('EXPOSURE')\n",
    "    max_pixel = measure_peak_flux(img_data, sources, aperture_radius, exposure_time)\n",
    "    \n",
    "    # Convert pixel positions to RA and Dec\n",
    "    sky_coords = wcs.pixel_to_world(sources['xcentroid'], sources['ycentroid'])\n",
    "    ra = sky_coords.ra\n",
    "    dec = sky_coords.dec\n",
    "    \n",
    "    # Fetch catalog data\n",
    "    match_data = catalog_data_fetch(ra, dec, max_pixel, filter_name)\n",
    "    pd.set_option('display.max_rows', None)\n",
    "    \n",
    "    # Filter and sort data for fitting\n",
    "    star_data = match_data.dropna(subset=['Pixel_Count', 'Mag']).sort_values(by='Mag', ascending=True)\n",
    "    x = star_data['Mag']\n",
    "    y = star_data['Pixel_Count']\n",
    "    \n",
    "    # Perform exponential fit\n",
    "    popt = perform_exponential_fit(x, y)\n",
    "    model_y = expo_fit(x, *popt)\n",
    "        \n",
    "    # Extrapolate to new magnitudes and plot\n",
    "    new_magnitudes = np.arange(9, 18, 0.2)\n",
    "    extrapolated_peak = extrapolate_magnitude(new_magnitudes, popt)\n",
    "    plot_extrapolation(new_magnitudes, extrapolated_peak, filter_name)\n",
    "\n",
    "if __name__ == \"__main__\":\n",
    "    file = 'NGC6992_1-V-E030-S001-R0001-C0001_r.fts'\n",
    "    filter_name = 'V'  # Change this to 'B', 'V', or 'R' as needed\n",
    "    main(file, filter_name)"
   ]
  }
 ],
 "metadata": {
  "kernelspec": {
   "display_name": "Python 3 (ipykernel)",
   "language": "python",
   "name": "python3"
  },
  "language_info": {
   "codemirror_mode": {
    "name": "ipython",
    "version": 3
   },
   "file_extension": ".py",
   "mimetype": "text/x-python",
   "name": "python",
   "nbconvert_exporter": "python",
   "pygments_lexer": "ipython3",
   "version": "3.9.19"
  }
 },
 "nbformat": 4,
 "nbformat_minor": 5
}
